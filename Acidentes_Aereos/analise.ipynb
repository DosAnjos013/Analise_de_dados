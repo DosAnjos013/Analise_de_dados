{
 "cells": [
  {
   "cell_type": "code",
   "execution_count": 8,
   "id": "35517995",
   "metadata": {},
   "outputs": [],
   "source": [
    "import pandas as pd\n",
    "#Importação das bases de dados da web\n",
    "url_ocorrencias = 'https://dedalo.sti.fab.mil.br/dadosabertos/ocorrencia.csv'\n",
    "url_tipo_ocorrencia = 'https://dedalo.sti.fab.mil.br/dadosabertos/ocorrencia_tipo.csv'\n",
    "url_aeronaves = 'https://dedalo.sti.fab.mil.br/dadosabertos/aeronave.csv'\n",
    "url_fator_contribuinte = 'https://dedalo.sti.fab.mil.br/dadosabertos/fator_contribuinte.csv'\n",
    "\n",
    "#leitura das bases de dados \n",
    "ocorrencias_df = pd.read_csv(url_ocorrencias,sep= ';', encoding='latin-1')\n",
    "tipo_df = pd.read_csv(url_tipo_ocorrencia, sep=';', encoding='latin-1')\n",
    "aeronaves_df = pd.read_csv(url_aeronaves, sep= ';', encoding='latin-1')\n",
    "fator_df = pd.read_csv(url_fator_contribuinte, sep=';', encoding='latin-1')\n",
    "\n",
    "\n"
   ]
  },
  {
   "cell_type": "code",
   "execution_count": null,
   "id": "4e4e2389",
   "metadata": {},
   "outputs": [],
   "source": []
  }
 ],
 "metadata": {
  "kernelspec": {
   "display_name": "Python 3",
   "language": "python",
   "name": "python3"
  },
  "language_info": {
   "codemirror_mode": {
    "name": "ipython",
    "version": 3
   },
   "file_extension": ".py",
   "mimetype": "text/x-python",
   "name": "python",
   "nbconvert_exporter": "python",
   "pygments_lexer": "ipython3",
   "version": "3.13.5"
  }
 },
 "nbformat": 4,
 "nbformat_minor": 5
}
