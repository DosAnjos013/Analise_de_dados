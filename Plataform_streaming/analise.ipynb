{
 "cells": [
  {
   "cell_type": "markdown",
   "id": "448bd20c",
   "metadata": {},
   "source": [
    "## Análise de Dados de Plataforma de Streaming (com Dados Gerados por IA)"
   ]
  },
  {
   "cell_type": "code",
   "execution_count": 127,
   "id": "6007499a",
   "metadata": {},
   "outputs": [],
   "source": [
    "#Import da biblioteca e leitura das bases de dados.\n",
    "import pandas as pd\n",
    "\n",
    "plataformas_df = pd.read_csv(r'C:\\Users\\joa_o\\OneDrive\\GitHub\\Analise_de_dados\\Plataform_streaming\\plataformas_distribuicao.csv', sep = ';')\n",
    "\n",
    "assinantes_df = pd.read_csv(r'C:\\Users\\joa_o\\OneDrive\\GitHub\\Analise_de_dados\\Plataform_streaming\\assinantes.csv', sep = ';')\n",
    "\n",
    "catalogo_df = pd.read_csv(r'C:\\Users\\joa_o\\OneDrive\\GitHub\\Analise_de_dados\\Plataform_streaming\\catalogo_conteudo.csv', sep = ';')\n",
    "\n",
    "historico_df = pd.read_csv(r'C:\\Users\\joa_o\\OneDrive\\GitHub\\Analise_de_dados\\Plataform_streaming\\historico_visualizacoes_2024.csv', sep = ';')\n",
    "\n",
    "#display(catalogo_df)\n",
    "#display(historico_df)\n",
    "#display(assinantes_df)\n",
    "#display(plataformas_df)"
   ]
  },
  {
   "cell_type": "markdown",
   "id": "2f70c8a3",
   "metadata": {},
   "source": [
    "## 1.Juntar Tabelas: Combine as tabelas para responder a perguntas como:"
   ]
  },
  {
   "cell_type": "markdown",
   "id": "58a37202",
   "metadata": {},
   "source": [
    "### Qual o gênero de filme/série mais assistido por assinantes Premium no Brasil?"
   ]
  },
  {
   "cell_type": "code",
   "execution_count": 128,
   "id": "d638538d",
   "metadata": {},
   "outputs": [
    {
     "name": "stdout",
     "output_type": "stream",
     "text": [
      "O genero de filmes e series mais assistido entre os assinantes Premium do Brasil é: Ficcao Cientifica!\n"
     ]
    }
   ],
   "source": [
    "\n",
    "def genero_mais_assistido_premium_brasil():\n",
    "    combinado_df = historico_df.merge(assinantes_df, on = 'ID_Assinante', how = 'left')\n",
    "    combinado_df = combinado_df.merge(catalogo_df, on = 'ID_Conteudo', how = 'left')\n",
    "\n",
    "    assinantes_premium_brasil_df = combinado_df[(combinado_df['Plano_Assinatura'] == 'Premium') & (combinado_df['Pais'] == 'Brasil')]\n",
    "    mais_assistido = assinantes_premium_brasil_df['Genero'].value_counts().reset_index()\n",
    "\n",
    "    mais_assistido.columns = ['Genero', 'Numero_Visualizacoes']\n",
    "    top_1 = mais_assistido.sort_values(by='Numero_Visualizacoes', ascending = False).iloc[0]\n",
    "    resposta = (f'O genero de filmes e series mais assistido entre os assinantes Premium do Brasil é: {top_1['Genero']}!')\n",
    "    return resposta\n",
    "print(genero_mais_assistido_premium_brasil())\n",
    "#display(genero_mais_assistido_premium_brasil())"
   ]
  },
  {
   "cell_type": "markdown",
   "id": "83e46b9c",
   "metadata": {},
   "source": [
    "### Qual a plataforma de distribuição mais utilizada para assistir filmes de ficção científica?"
   ]
  },
  {
   "cell_type": "code",
   "execution_count": 129,
   "id": "dc9b44da",
   "metadata": {},
   "outputs": [
    {
     "name": "stdout",
     "output_type": "stream",
     "text": [
      "A plataforma mais utilizada para assistir filmes do genero \"Ficção Científica\" é: Apple TV\n"
     ]
    }
   ],
   "source": [
    "\n",
    "def plataforma_mais_utilizada_para_ficcao():\n",
    "    df_combinado = historico_df.merge(plataformas_df, on = 'ID_Plataforma')\n",
    "    df_combinado = df_combinado.merge(catalogo_df, on = 'ID_Conteudo')\n",
    "\n",
    "    filmes_ficcao = df_combinado[(df_combinado['Genero'] == 'Ficcao Cientifica')]\n",
    "    plataforma_mais_utilizada = filmes_ficcao['Nome_Plataforma'].value_counts().reset_index()\n",
    "    plataforma_mais_utilizada.columns = ['Nome_Plataforma', 'Utilizacao']\n",
    "    top_1 = plataforma_mais_utilizada.sort_values(by = 'Utilizacao', ascending=False).iloc[0]\n",
    "\n",
    "    resposta = (f'A plataforma mais utilizada para assistir filmes do genero \"Ficção Científica\" é: {top_1['Nome_Plataforma']}')\n",
    "    return resposta\n",
    "print (plataforma_mais_utilizada_para_ficcao())"
   ]
  },
  {
   "cell_type": "markdown",
   "id": "13869a30",
   "metadata": {},
   "source": [
    "### Qual o título com maior tempo total de visualização?\n"
   ]
  },
  {
   "cell_type": "code",
   "execution_count": 130,
   "id": "3c65d6c3",
   "metadata": {},
   "outputs": [
    {
     "name": "stdout",
     "output_type": "stream",
     "text": [
      "O título com maior tempo total de visualização é: \"O Legado do Código\" com 8.75 horas de visualização!\n"
     ]
    }
   ],
   "source": [
    "def titulo_com_maior_visualizacao():\n",
    "    df_combinado = historico_df.merge(catalogo_df, on = 'ID_Conteudo')\n",
    "    mais_assistido = df_combinado.groupby('Titulo').sum().reset_index()\n",
    "    mais_assistido = mais_assistido[['Titulo','Minutos_Assistidos']]\n",
    "    mais_assistido =  mais_assistido.sort_values(by = 'Minutos_Assistidos', ascending=False)\n",
    "    top_1 = mais_assistido.sort_values(by = 'Minutos_Assistidos', ascending=False).iloc[0]\n",
    "    resposta = (f'O título com maior tempo total de visualização é: \"{top_1['Titulo']}\" com {int(top_1['Minutos_Assistidos'])/60} horas de visualização!')\n",
    "    return resposta\n",
    "\n",
    "print (titulo_com_maior_visualizacao())"
   ]
  },
  {
   "cell_type": "markdown",
   "id": "315ece26",
   "metadata": {},
   "source": [
    "## 2.Filtrar e Selecionar:"
   ]
  },
  {
   "cell_type": "markdown",
   "id": "ee0ef5cc",
   "metadata": {},
   "source": [
    "### Liste os assinantes que se cadastraram em janeiro de 2024.\n"
   ]
  },
  {
   "cell_type": "code",
   "execution_count": 131,
   "id": "27900936",
   "metadata": {},
   "outputs": [
    {
     "name": "stdout",
     "output_type": "stream",
     "text": [
      "Assinantes que se cadastraram em Janeiro de 2024: \n",
      "       Nome Sobrenome Data_Inicio_Assinatura\n",
      "6  Gabriela     Nunes             2024-01-01\n"
     ]
    }
   ],
   "source": [
    "def assinantes_cadastrados_janeiro_2024(df):\n",
    "    copia_df = df\n",
    "    copia_df['Data_Inicio_Assinatura'] = pd.to_datetime(copia_df['Data_Inicio_Assinatura'])\n",
    "    janeiro_2024_df = ((copia_df['Data_Inicio_Assinatura'].dt.year == 2024) & (copia_df['Data_Inicio_Assinatura'].dt.month == 1))\n",
    "    assinantes_filtrados = copia_df[janeiro_2024_df][['Nome', 'Sobrenome', 'Data_Inicio_Assinatura']]\n",
    "    \n",
    "    return assinantes_filtrados\n",
    "\n",
    "print(f'Assinantes que se cadastraram em Janeiro de 2024: \\n{assinantes_cadastrados_janeiro_2024(assinantes_df)}')"
   ]
  },
  {
   "cell_type": "markdown",
   "id": "4b6184a6",
   "metadata": {},
   "source": [
    "### Encontre os filmes com avaliação IMDb acima de 8.5 e duração superior a 2 horas."
   ]
  },
  {
   "cell_type": "code",
   "execution_count": 132,
   "id": "749d8d5d",
   "metadata": {},
   "outputs": [],
   "source": [
    "def Avaliacao_e_mais_de_duas_horas(df):\n",
    "    combinado_df = df[(df['Tipo_Conteudo'] == 'Filme') & (df['Avaliacao_Media_IMDb'] >= 8.5) & (df['Duracao_Minutos'] > 120)]\n",
    "    combinado_df['Duracao_Horas']= (combinado_df['Duracao_Minutos']/60).round(2)\n",
    "    correspondentes_df = combinado_df[['ID_Conteudo', 'Titulo', 'Duracao_Horas', 'Avaliacao_Media_IMDb']]\n",
    "    return correspondentes_df\n",
    "\n",
    "#display(Avaliacao_e_mais_de_duas_horas(catalogo_df))"
   ]
  },
  {
   "cell_type": "markdown",
   "id": "317a67e7",
   "metadata": {},
   "source": [
    "### Quais visualizações não foram completas?"
   ]
  },
  {
   "cell_type": "code",
   "execution_count": 133,
   "id": "0ebd6fa7",
   "metadata": {},
   "outputs": [],
   "source": [
    "def visualizacao_incompleta():\n",
    "    combinado_df = historico_df.merge(catalogo_df, on = 'ID_Conteudo')\n",
    "    combinado_df = combinado_df.merge(assinantes_df, on = 'ID_Assinante')\n",
    "    combinado_df = combinado_df[['ID_Visualizacao', 'ID_Assinante', 'Nome', 'Sobrenome', 'ID_Conteudo', 'Titulo', 'Completo']]\n",
    "    visualizacao_incompleta_df = combinado_df[(combinado_df['Completo'] == 'Nao')]\n",
    "    return visualizacao_incompleta_df\n",
    "\n",
    "#display(visualizacao_incompleta())"
   ]
  },
  {
   "cell_type": "markdown",
   "id": "04356698",
   "metadata": {},
   "source": [
    "## 3.Agrupar e Agregar: \n"
   ]
  },
  {
   "cell_type": "markdown",
   "id": "81b4a13b",
   "metadata": {},
   "source": [
    "### Calcule o tempo médio de visualização por tipo de dispositivo."
   ]
  },
  {
   "cell_type": "code",
   "execution_count": 134,
   "id": "65a7c7bb",
   "metadata": {},
   "outputs": [],
   "source": [
    "def media_por_dispositivo():\n",
    "    combinado_df = historico_df.merge(plataformas_df, on = 'ID_Plataforma')\n",
    "    media_por_plataforma = (combinado_df.groupby('Nome_Plataforma')['Minutos_Assistidos'].mean().reset_index()).round(2)\n",
    "    media_por_plataforma = media_por_plataforma.rename(columns={'Minutos_Assistidos' : 'Media_Minutos_Assistidos'})\n",
    "    return media_por_plataforma\n",
    "\n",
    "#display(media_por_dispositivo())\n"
   ]
  },
  {
   "cell_type": "markdown",
   "id": "27a80bd1",
   "metadata": {},
   "source": [
    "### Quantos assinantes temos por país?"
   ]
  },
  {
   "cell_type": "code",
   "execution_count": 135,
   "id": "c7accc07",
   "metadata": {},
   "outputs": [],
   "source": [
    "def quantidade_assinantes_por_pais(df):\n",
    "    df_combinado = df[['Pais']]\n",
    "    df_combinado['QTD_Assinaturas'] = ((df['ID_Assinante']*0) + 1)\n",
    "    df_combinado = df_combinado.groupby('Pais').sum().reset_index()\n",
    "    return df_combinado\n",
    "\n",
    "#display(quantidade_assinantes_por_pais(assinantes_df))\n"
   ]
  },
  {
   "cell_type": "markdown",
   "id": "cba6e9ac",
   "metadata": {},
   "source": [
    "### Qual o total gasto mensalmente pelos assinantes por tipo de plano?"
   ]
  },
  {
   "cell_type": "code",
   "execution_count": 136,
   "id": "398ac5a4",
   "metadata": {},
   "outputs": [],
   "source": [
    "def total_por_plano(df):\n",
    "    df_combinado = df[['Plano_Assinatura', 'Gasto_Mensal_USD']]\n",
    "    df_combinado['QTD_Assinaturas'] = ((df['ID_Assinante']*0) + 1)\n",
    "    df_combinado = df_combinado.groupby('Plano_Assinatura').sum().reset_index()\n",
    "    return df_combinado\n",
    "\n",
    "#display(total_por_plano(assinantes_df))"
   ]
  },
  {
   "cell_type": "markdown",
   "id": "fe64887a",
   "metadata": {},
   "source": [
    "## 4.Criar Novas Colunas:"
   ]
  },
  {
   "cell_type": "markdown",
   "id": "9b87e5ce",
   "metadata": {},
   "source": [
    "### Adicione uma coluna com a idade do assinante."
   ]
  },
  {
   "cell_type": "code",
   "execution_count": 137,
   "id": "ec659887",
   "metadata": {},
   "outputs": [],
   "source": [
    "from datetime import datetime \n",
    "assinantes_df = assinantes_df\n",
    "assinantes_df['Data_Nascimento'] = pd.to_datetime(assinantes_df['Data_Nascimento'])\n",
    "data_atual = pd.to_datetime(datetime.now().strftime('%Y-%m-%d'))\n",
    "assinantes_df ['Idade']= data_atual.year - (assinantes_df['Data_Nascimento']).dt.year\n",
    "aniversario = (assinantes_df['Data_Nascimento'].dt.month > data_atual.month) |((assinantes_df['Data_Nascimento'].dt.month == data_atual.month)&(assinantes_df['Data_Nascimento'].dt.day > data_atual.day))\n",
    "assinantes_df.loc[aniversario, 'Idade'] -= 1\n",
    "#display(assinantes_df)\n"
   ]
  },
  {
   "cell_type": "markdown",
   "id": "293f3e87",
   "metadata": {},
   "source": [
    "### Calcule o percentual de cada filme/série que foi assistido (Minutos Assistidos / Duração Total)."
   ]
  },
  {
   "cell_type": "code",
   "execution_count": 138,
   "id": "62f4fb8c",
   "metadata": {},
   "outputs": [],
   "source": [
    "def percentual_assistido():\n",
    "    df_combinado = historico_df.merge(catalogo_df, on = 'ID_Conteudo')\n",
    "    df_combinado = df_combinado[['Titulo', 'Duracao_Minutos', 'Minutos_Assistidos']]\n",
    "    df_combinado = df_combinado.groupby('Titulo').mean().reset_index()\n",
    "    df_combinado['Percentual'] = ((df_combinado['Minutos_Assistidos'])/(df_combinado['Duracao_Minutos']))\n",
    "    df_combinado[\"Percentual\"] = (df_combinado['Percentual'].map('{:.2%}'.format))\n",
    "    return df_combinado\n",
    "#display(percentual_assistido())"
   ]
  },
  {
   "cell_type": "markdown",
   "id": "30745f32",
   "metadata": {},
   "source": [
    "## 5.Tratar Dados Nulos: \n"
   ]
  },
  {
   "cell_type": "markdown",
   "id": "1aa4281d",
   "metadata": {},
   "source": [
    "### Substitua os valores nulos na coluna Avaliacao_Usuario por uma média ou valor padrão."
   ]
  },
  {
   "cell_type": "code",
   "execution_count": 139,
   "id": "6fb8dc05",
   "metadata": {},
   "outputs": [
    {
     "name": "stderr",
     "output_type": "stream",
     "text": [
      "C:\\Users\\joa_o\\AppData\\Local\\Temp\\ipykernel_17096\\3027631617.py:2: FutureWarning: A value is trying to be set on a copy of a DataFrame or Series through chained assignment using an inplace method.\n",
      "The behavior will change in pandas 3.0. This inplace method will never work because the intermediate object on which we are setting values always behaves as a copy.\n",
      "\n",
      "For example, when doing 'df[col].method(value, inplace=True)', try using 'df.method({col: value}, inplace=True)' or df[col] = df[col].method(value) instead, to perform the operation inplace on the original object.\n",
      "\n",
      "\n",
      "  historico_df['Avaliacao_Usuario'].fillna(int(media_avaliacao), inplace = True)\n"
     ]
    }
   ],
   "source": [
    "media_avaliacao = historico_df['Avaliacao_Usuario'].mean()\n",
    "historico_df['Avaliacao_Usuario'].fillna(int(media_avaliacao), inplace = True)\n",
    "#display(historico_df)"
   ]
  },
  {
   "cell_type": "markdown",
   "id": "e567a638",
   "metadata": {},
   "source": [
    "## 6.Visualizar Dados: \n",
    "\n"
   ]
  },
  {
   "cell_type": "markdown",
   "id": "eaf537a4",
   "metadata": {},
   "source": [
    "### Crie gráficos que mostrem a distribuição de assinantes por plano."
   ]
  },
  {
   "cell_type": "code",
   "execution_count": 140,
   "id": "c218944d",
   "metadata": {},
   "outputs": [
    {
     "name": "stderr",
     "output_type": "stream",
     "text": [
      "C:\\Users\\joa_o\\AppData\\Local\\Temp\\ipykernel_17096\\3284771692.py:5: SettingWithCopyWarning: \n",
      "A value is trying to be set on a copy of a slice from a DataFrame.\n",
      "Try using .loc[row_indexer,col_indexer] = value instead\n",
      "\n",
      "See the caveats in the documentation: https://pandas.pydata.org/pandas-docs/stable/user_guide/indexing.html#returning-a-view-versus-a-copy\n",
      "  df_combinado['QTD_Assinatura'] = ((assinantes_df['ID_Assinante']*0) + 1)\n"
     ]
    },
    {
     "data": {
      "text/plain": [
       "<Axes: xlabel='Plano_Assinatura,QTD_Assinatura'>"
      ]
     },
     "execution_count": 140,
     "metadata": {},
     "output_type": "execute_result"
    },
    {
     "data": {
      "image/png": "[encoded data removed]",
      "text/plain": [
       "<Figure size 1500x500 with 1 Axes>"
      ]
     },
     "metadata": {},
     "output_type": "display_data"
    }
   ],
   "source": [
    "import matplotlib.pyplot as plt\n",
    "def grafico_assinantes_por_plano():\n",
    "    df_combinado = assinantes_df\n",
    "    df_combinado = assinantes_df[['Plano_Assinatura']]\n",
    "    df_combinado['QTD_Assinatura'] = ((assinantes_df['ID_Assinante']*0) + 1)\n",
    "    df_combinado = df_combinado.groupby('Plano_Assinatura').sum().reset_index()\n",
    "    df_combinado = df_combinado.groupby('Plano_Assinatura').value_counts()\n",
    "    return df_combinado.plot(figsize=(15, 5), kind='bar' )\n",
    "\n",
    "grafico_assinantes_por_plano()"
   ]
  },
  {
   "cell_type": "markdown",
   "id": "fa4ab9b5",
   "metadata": {},
   "source": [
    "### Exiba a evolução do número de visualizações ao longo dos meses."
   ]
  },
  {
   "cell_type": "code",
   "execution_count": null,
   "id": "518fb205",
   "metadata": {},
   "outputs": [
    {
     "name": "stderr",
     "output_type": "stream",
     "text": [
      "C:\\Users\\joa_o\\AppData\\Local\\Temp\\ipykernel_17096\\4156294534.py:3: SettingWithCopyWarning: \n",
      "A value is trying to be set on a copy of a slice from a DataFrame.\n",
      "Try using .loc[row_indexer,col_indexer] = value instead\n",
      "\n",
      "See the caveats in the documentation: https://pandas.pydata.org/pandas-docs/stable/user_guide/indexing.html#returning-a-view-versus-a-copy\n",
      "  df_combinado['Data_Visualizacao'] = pd.to_datetime(df_combinado['Data_Visualizacao'])\n",
      "C:\\Users\\joa_o\\AppData\\Local\\Temp\\ipykernel_17096\\4156294534.py:4: SettingWithCopyWarning: \n",
      "A value is trying to be set on a copy of a slice from a DataFrame.\n",
      "Try using .loc[row_indexer,col_indexer] = value instead\n",
      "\n",
      "See the caveats in the documentation: https://pandas.pydata.org/pandas-docs/stable/user_guide/indexing.html#returning-a-view-versus-a-copy\n",
      "  df_combinado['QTD_visualizacao'] = ((historico_df['ID_Assinante'] * 0) + 1)\n",
      "C:\\Users\\joa_o\\AppData\\Local\\Temp\\ipykernel_17096\\4156294534.py:5: SettingWithCopyWarning: \n",
      "A value is trying to be set on a copy of a slice from a DataFrame.\n",
      "Try using .loc[row_indexer,col_indexer] = value instead\n",
      "\n",
      "See the caveats in the documentation: https://pandas.pydata.org/pandas-docs/stable/user_guide/indexing.html#returning-a-view-versus-a-copy\n",
      "  df_combinado['Mes_Visualizacao'] = ((df_combinado['Data_Visualizacao']).dt.month)\n"
     ]
    },
    {
     "data": {
      "text/html": [
       "<div>\n",
       "<style scoped>\n",
       "    .dataframe tbody tr th:only-of-type {\n",
       "        vertical-align: middle;\n",
       "    }\n",
       "\n",
       "    .dataframe tbody tr th {\n",
       "        vertical-align: top;\n",
       "    }\n",
       "\n",
       "    .dataframe thead th {\n",
       "        text-align: right;\n",
       "    }\n",
       "</style>\n",
       "<table border=\"1\" class=\"dataframe\">\n",
       "  <thead>\n",
       "    <tr style=\"text-align: right;\">\n",
       "      <th></th>\n",
       "      <th>Data_Visualizacao</th>\n",
       "      <th>QTD_visualizacao</th>\n",
       "      <th>Mes_Visualizacao</th>\n",
       "    </tr>\n",
       "  </thead>\n",
       "  <tbody>\n",
       "    <tr>\n",
       "      <th>0</th>\n",
       "      <td>2024-01-05</td>\n",
       "      <td>1</td>\n",
       "      <td>1</td>\n",
       "    </tr>\n",
       "    <tr>\n",
       "      <th>1</th>\n",
       "      <td>2024-01-05</td>\n",
       "      <td>1</td>\n",
       "      <td>1</td>\n",
       "    </tr>\n",
       "    <tr>\n",
       "      <th>2</th>\n",
       "      <td>2024-01-06</td>\n",
       "      <td>1</td>\n",
       "      <td>1</td>\n",
       "    </tr>\n",
       "    <tr>\n",
       "      <th>3</th>\n",
       "      <td>2024-01-06</td>\n",
       "      <td>1</td>\n",
       "      <td>1</td>\n",
       "    </tr>\n",
       "    <tr>\n",
       "      <th>4</th>\n",
       "      <td>2024-01-07</td>\n",
       "      <td>1</td>\n",
       "      <td>1</td>\n",
       "    </tr>\n",
       "    <tr>\n",
       "      <th>5</th>\n",
       "      <td>2024-01-07</td>\n",
       "      <td>1</td>\n",
       "      <td>1</td>\n",
       "    </tr>\n",
       "    <tr>\n",
       "      <th>6</th>\n",
       "      <td>2024-01-08</td>\n",
       "      <td>1</td>\n",
       "      <td>1</td>\n",
       "    </tr>\n",
       "    <tr>\n",
       "      <th>7</th>\n",
       "      <td>2024-01-08</td>\n",
       "      <td>1</td>\n",
       "      <td>1</td>\n",
       "    </tr>\n",
       "    <tr>\n",
       "      <th>8</th>\n",
       "      <td>2024-01-09</td>\n",
       "      <td>1</td>\n",
       "      <td>1</td>\n",
       "    </tr>\n",
       "    <tr>\n",
       "      <th>9</th>\n",
       "      <td>2024-01-09</td>\n",
       "      <td>1</td>\n",
       "      <td>1</td>\n",
       "    </tr>\n",
       "    <tr>\n",
       "      <th>10</th>\n",
       "      <td>2024-01-10</td>\n",
       "      <td>1</td>\n",
       "      <td>1</td>\n",
       "    </tr>\n",
       "    <tr>\n",
       "      <th>11</th>\n",
       "      <td>2024-01-10</td>\n",
       "      <td>1</td>\n",
       "      <td>1</td>\n",
       "    </tr>\n",
       "    <tr>\n",
       "      <th>12</th>\n",
       "      <td>2024-01-11</td>\n",
       "      <td>1</td>\n",
       "      <td>1</td>\n",
       "    </tr>\n",
       "    <tr>\n",
       "      <th>13</th>\n",
       "      <td>2024-01-11</td>\n",
       "      <td>1</td>\n",
       "      <td>1</td>\n",
       "    </tr>\n",
       "    <tr>\n",
       "      <th>14</th>\n",
       "      <td>2024-01-12</td>\n",
       "      <td>1</td>\n",
       "      <td>1</td>\n",
       "    </tr>\n",
       "    <tr>\n",
       "      <th>15</th>\n",
       "      <td>2024-01-12</td>\n",
       "      <td>1</td>\n",
       "      <td>1</td>\n",
       "    </tr>\n",
       "    <tr>\n",
       "      <th>16</th>\n",
       "      <td>2024-01-13</td>\n",
       "      <td>1</td>\n",
       "      <td>1</td>\n",
       "    </tr>\n",
       "    <tr>\n",
       "      <th>17</th>\n",
       "      <td>2024-01-13</td>\n",
       "      <td>1</td>\n",
       "      <td>1</td>\n",
       "    </tr>\n",
       "    <tr>\n",
       "      <th>18</th>\n",
       "      <td>2024-01-14</td>\n",
       "      <td>1</td>\n",
       "      <td>1</td>\n",
       "    </tr>\n",
       "    <tr>\n",
       "      <th>19</th>\n",
       "      <td>2024-01-14</td>\n",
       "      <td>1</td>\n",
       "      <td>1</td>\n",
       "    </tr>\n",
       "    <tr>\n",
       "      <th>20</th>\n",
       "      <td>2024-01-15</td>\n",
       "      <td>1</td>\n",
       "      <td>1</td>\n",
       "    </tr>\n",
       "    <tr>\n",
       "      <th>21</th>\n",
       "      <td>2024-01-15</td>\n",
       "      <td>1</td>\n",
       "      <td>1</td>\n",
       "    </tr>\n",
       "    <tr>\n",
       "      <th>22</th>\n",
       "      <td>2024-01-16</td>\n",
       "      <td>1</td>\n",
       "      <td>1</td>\n",
       "    </tr>\n",
       "    <tr>\n",
       "      <th>23</th>\n",
       "      <td>2024-01-16</td>\n",
       "      <td>1</td>\n",
       "      <td>1</td>\n",
       "    </tr>\n",
       "    <tr>\n",
       "      <th>24</th>\n",
       "      <td>2024-01-17</td>\n",
       "      <td>1</td>\n",
       "      <td>1</td>\n",
       "    </tr>\n",
       "    <tr>\n",
       "      <th>25</th>\n",
       "      <td>2024-01-17</td>\n",
       "      <td>1</td>\n",
       "      <td>1</td>\n",
       "    </tr>\n",
       "    <tr>\n",
       "      <th>26</th>\n",
       "      <td>2024-01-18</td>\n",
       "      <td>1</td>\n",
       "      <td>1</td>\n",
       "    </tr>\n",
       "    <tr>\n",
       "      <th>27</th>\n",
       "      <td>2024-01-18</td>\n",
       "      <td>1</td>\n",
       "      <td>1</td>\n",
       "    </tr>\n",
       "    <tr>\n",
       "      <th>28</th>\n",
       "      <td>2024-01-19</td>\n",
       "      <td>1</td>\n",
       "      <td>1</td>\n",
       "    </tr>\n",
       "    <tr>\n",
       "      <th>29</th>\n",
       "      <td>2024-01-19</td>\n",
       "      <td>1</td>\n",
       "      <td>1</td>\n",
       "    </tr>\n",
       "  </tbody>\n",
       "</table>\n",
       "</div>"
      ],
      "text/plain": [
       "   Data_Visualizacao  QTD_visualizacao  Mes_Visualizacao\n",
       "0         2024-01-05                 1                 1\n",
       "1         2024-01-05                 1                 1\n",
       "2         2024-01-06                 1                 1\n",
       "3         2024-01-06                 1                 1\n",
       "4         2024-01-07                 1                 1\n",
       "5         2024-01-07                 1                 1\n",
       "6         2024-01-08                 1                 1\n",
       "7         2024-01-08                 1                 1\n",
       "8         2024-01-09                 1                 1\n",
       "9         2024-01-09                 1                 1\n",
       "10        2024-01-10                 1                 1\n",
       "11        2024-01-10                 1                 1\n",
       "12        2024-01-11                 1                 1\n",
       "13        2024-01-11                 1                 1\n",
       "14        2024-01-12                 1                 1\n",
       "15        2024-01-12                 1                 1\n",
       "16        2024-01-13                 1                 1\n",
       "17        2024-01-13                 1                 1\n",
       "18        2024-01-14                 1                 1\n",
       "19        2024-01-14                 1                 1\n",
       "20        2024-01-15                 1                 1\n",
       "21        2024-01-15                 1                 1\n",
       "22        2024-01-16                 1                 1\n",
       "23        2024-01-16                 1                 1\n",
       "24        2024-01-17                 1                 1\n",
       "25        2024-01-17                 1                 1\n",
       "26        2024-01-18                 1                 1\n",
       "27        2024-01-18                 1                 1\n",
       "28        2024-01-19                 1                 1\n",
       "29        2024-01-19                 1                 1"
      ]
     },
     "metadata": {},
     "output_type": "display_data"
    }
   ],
   "source": []
  },
  {
   "cell_type": "code",
   "execution_count": null,
   "id": "e92fc844",
   "metadata": {},
   "outputs": [],
   "source": []
  }
 ],
 "metadata": {
  "kernelspec": {
   "display_name": "Python 3",
   "language": "python",
   "name": "python3"
  },
  "language_info": {
   "codemirror_mode": {
    "name": "ipython",
    "version": 3
   },
   "file_extension": ".py",
   "mimetype": "text/x-python",
   "name": "python",
   "nbconvert_exporter": "python",
   "pygments_lexer": "ipython3",
   "version": "3.13.5"
  }
 },
 "nbformat": 4,
 "nbformat_minor": 5
}
