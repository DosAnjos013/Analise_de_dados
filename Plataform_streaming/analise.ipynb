{
 "cells": [
  {
   "cell_type": "markdown",
   "id": "448bd20c",
   "metadata": {},
   "source": [
    "## Análise de Dados de Plataforma de Streaming (com Dados Gerados por IA)"
   ]
  },
  {
   "cell_type": "code",
   "execution_count": 2,
   "id": "6007499a",
   "metadata": {},
   "outputs": [
    {
     "data": {
      "text/html": [
       "<div>\n",
       "<style scoped>\n",
       "    .dataframe tbody tr th:only-of-type {\n",
       "        vertical-align: middle;\n",
       "    }\n",
       "\n",
       "    .dataframe tbody tr th {\n",
       "        vertical-align: top;\n",
       "    }\n",
       "\n",
       "    .dataframe thead th {\n",
       "        text-align: right;\n",
       "    }\n",
       "</style>\n",
       "<table border=\"1\" class=\"dataframe\">\n",
       "  <thead>\n",
       "    <tr style=\"text-align: right;\">\n",
       "      <th></th>\n",
       "      <th>ID_Plataforma</th>\n",
       "      <th>Nome_Plataforma</th>\n",
       "      <th>Tipo_Dispositivo</th>\n",
       "      <th>Sistema_Operacional</th>\n",
       "      <th>Suporte_4K</th>\n",
       "      <th>Regiao_Principal</th>\n",
       "    </tr>\n",
       "  </thead>\n",
       "  <tbody>\n",
       "    <tr>\n",
       "      <th>0</th>\n",
       "      <td>301</td>\n",
       "      <td>SmartTV Samsung</td>\n",
       "      <td>Smart TV</td>\n",
       "      <td>Tizen</td>\n",
       "      <td>Sim</td>\n",
       "      <td>Global</td>\n",
       "    </tr>\n",
       "    <tr>\n",
       "      <th>1</th>\n",
       "      <td>302</td>\n",
       "      <td>Mobile Android</td>\n",
       "      <td>Smartphone</td>\n",
       "      <td>Android</td>\n",
       "      <td>Nao</td>\n",
       "      <td>Global</td>\n",
       "    </tr>\n",
       "    <tr>\n",
       "      <th>2</th>\n",
       "      <td>303</td>\n",
       "      <td>Web Browser</td>\n",
       "      <td>Desktop</td>\n",
       "      <td>Windows</td>\n",
       "      <td>Sim</td>\n",
       "      <td>Global</td>\n",
       "    </tr>\n",
       "    <tr>\n",
       "      <th>3</th>\n",
       "      <td>304</td>\n",
       "      <td>Apple TV</td>\n",
       "      <td>Streaming Device</td>\n",
       "      <td>tvOS</td>\n",
       "      <td>Sim</td>\n",
       "      <td>America do Norte</td>\n",
       "    </tr>\n",
       "    <tr>\n",
       "      <th>4</th>\n",
       "      <td>305</td>\n",
       "      <td>Console Playstation</td>\n",
       "      <td>Console</td>\n",
       "      <td>Proprietario</td>\n",
       "      <td>Sim</td>\n",
       "      <td>Global</td>\n",
       "    </tr>\n",
       "    <tr>\n",
       "      <th>5</th>\n",
       "      <td>306</td>\n",
       "      <td>Mobile iOS</td>\n",
       "      <td>Smartphone</td>\n",
       "      <td>iOS</td>\n",
       "      <td>Nao</td>\n",
       "      <td>Global</td>\n",
       "    </tr>\n",
       "    <tr>\n",
       "      <th>6</th>\n",
       "      <td>307</td>\n",
       "      <td>Web Browser</td>\n",
       "      <td>Desktop</td>\n",
       "      <td>MacOS</td>\n",
       "      <td>Sim</td>\n",
       "      <td>Global</td>\n",
       "    </tr>\n",
       "    <tr>\n",
       "      <th>7</th>\n",
       "      <td>308</td>\n",
       "      <td>SmartTV LG</td>\n",
       "      <td>Smart TV</td>\n",
       "      <td>webOS</td>\n",
       "      <td>Sim</td>\n",
       "      <td>Global</td>\n",
       "    </tr>\n",
       "  </tbody>\n",
       "</table>\n",
       "</div>"
      ],
      "text/plain": [
       "   ID_Plataforma      Nome_Plataforma  Tipo_Dispositivo Sistema_Operacional  \\\n",
       "0            301      SmartTV Samsung          Smart TV               Tizen   \n",
       "1            302       Mobile Android        Smartphone             Android   \n",
       "2            303          Web Browser           Desktop             Windows   \n",
       "3            304             Apple TV  Streaming Device                tvOS   \n",
       "4            305  Console Playstation           Console        Proprietario   \n",
       "5            306           Mobile iOS        Smartphone                 iOS   \n",
       "6            307          Web Browser           Desktop               MacOS   \n",
       "7            308           SmartTV LG          Smart TV               webOS   \n",
       "\n",
       "  Suporte_4K  Regiao_Principal  \n",
       "0        Sim            Global  \n",
       "1        Nao            Global  \n",
       "2        Sim            Global  \n",
       "3        Sim  America do Norte  \n",
       "4        Sim            Global  \n",
       "5        Nao            Global  \n",
       "6        Sim            Global  \n",
       "7        Sim            Global  "
      ]
     },
     "metadata": {},
     "output_type": "display_data"
    }
   ],
   "source": [
    "#Import da biblioteca e leitura das bases de dados.\n",
    "import pandas as pd\n",
    "\n",
    "plataformas_df = pd.read_csv(r'C:\\Users\\joa_o\\OneDrive\\GitHub\\Analise_de_dados\\Plataform_streaming\\plataformas_distribuicao.csv', sep = ';')\n",
    "\n",
    "assinantes_df = pd.read_csv(r'C:\\Users\\joa_o\\OneDrive\\GitHub\\Analise_de_dados\\Plataform_streaming\\assinantes.csv', sep = ';')\n",
    "\n",
    "catalogo_df = pd.read_csv(r'C:\\Users\\joa_o\\OneDrive\\GitHub\\Analise_de_dados\\Plataform_streaming\\catalogo_conteudo.csv', sep = ';')\n",
    "\n",
    "historico_df = pd.read_csv(r'C:\\Users\\joa_o\\OneDrive\\GitHub\\Analise_de_dados\\Plataform_streaming\\historico_visualizacoes_2024.csv', sep = ';')\n",
    "\n",
    "#display(catalogo_df)\n",
    "#display(historico_df)\n",
    "#display(assinantes_df)\n",
    "display(plataformas_df)"
   ]
  },
  {
   "cell_type": "markdown",
   "id": "2f70c8a3",
   "metadata": {},
   "source": [
    "## 1.Juntar Tabelas: Combine as tabelas para responder a perguntas como:"
   ]
  },
  {
   "cell_type": "markdown",
   "id": "58a37202",
   "metadata": {},
   "source": [
    "### Qual o gênero de filme/série mais assistido por assinantes Premium no Brasil?"
   ]
  },
  {
   "cell_type": "code",
   "execution_count": 3,
   "id": "d638538d",
   "metadata": {},
   "outputs": [
    {
     "name": "stdout",
     "output_type": "stream",
     "text": [
      "O genero de filmes e series mais assistido entre os assinantes Premium do Brasil é: Ficcao Cientifica!\n"
     ]
    }
   ],
   "source": [
    "\n",
    "def genero_mais_assistido_premium_brasil():\n",
    "    combinado_df = historico_df.merge(assinantes_df, on = 'ID_Assinante', how = 'left')\n",
    "    combinado_df = combinado_df.merge(catalogo_df, on = 'ID_Conteudo', how = 'left')\n",
    "\n",
    "    assinantes_premium_brasil_df = combinado_df[(combinado_df['Plano_Assinatura'] == 'Premium') & (combinado_df['Pais'] == 'Brasil')]\n",
    "    mais_assistido = assinantes_premium_brasil_df['Genero'].value_counts().reset_index()\n",
    "\n",
    "    mais_assistido.columns = ['Genero', 'Numero_Visualizacoes']\n",
    "    top_1 = mais_assistido.sort_values(by='Numero_Visualizacoes', ascending = False).iloc[0]\n",
    "    resposta = (f'O genero de filmes e series mais assistido entre os assinantes Premium do Brasil é: {top_1['Genero']}!')\n",
    "    return resposta\n",
    "print(genero_mais_assistido_premium_brasil())\n",
    "#display(genero_mais_assistido_premium_brasil())"
   ]
  },
  {
   "cell_type": "markdown",
   "id": "83e46b9c",
   "metadata": {},
   "source": [
    "### Qual a plataforma de distribuição mais utilizada para assistir filmes de ficção científica?"
   ]
  },
  {
   "cell_type": "code",
   "execution_count": 4,
   "id": "dc9b44da",
   "metadata": {},
   "outputs": [
    {
     "name": "stdout",
     "output_type": "stream",
     "text": [
      "A plataforma mais utilizada para assistir filmes do genero \"Ficção Científica\" é: Apple TV\n"
     ]
    }
   ],
   "source": [
    "\n",
    "def plataforma_mais_utilizada_para_ficcao():\n",
    "    df_combinado = historico_df.merge(plataformas_df, on = 'ID_Plataforma')\n",
    "    df_combinado = df_combinado.merge(catalogo_df, on = 'ID_Conteudo')\n",
    "\n",
    "    filmes_ficcao = df_combinado[(df_combinado['Genero'] == 'Ficcao Cientifica')]\n",
    "    plataforma_mais_utilizada = filmes_ficcao['Nome_Plataforma'].value_counts().reset_index()\n",
    "    plataforma_mais_utilizada.columns = ['Nome_Plataforma', 'Utilizacao']\n",
    "    top_1 = plataforma_mais_utilizada.sort_values(by = 'Utilizacao', ascending=False).iloc[0]\n",
    "\n",
    "    resposta = (f'A plataforma mais utilizada para assistir filmes do genero \"Ficção Científica\" é: {top_1['Nome_Plataforma']}')\n",
    "    return resposta\n",
    "print (plataforma_mais_utilizada_para_ficcao())"
   ]
  },
  {
   "cell_type": "markdown",
   "id": "13869a30",
   "metadata": {},
   "source": [
    "### Qual o título com maior tempo total de visualização?\n"
   ]
  },
  {
   "cell_type": "code",
   "execution_count": 5,
   "id": "3c65d6c3",
   "metadata": {},
   "outputs": [
    {
     "name": "stdout",
     "output_type": "stream",
     "text": [
      "O título com maior tempo total de visualização é: \"O Legado do Código\" com 8.75 horas de visualização!\n"
     ]
    }
   ],
   "source": [
    "def titulo_com_maior_visualizacao():\n",
    "    df_combinado = historico_df.merge(catalogo_df, on = 'ID_Conteudo')\n",
    "    mais_assistido = df_combinado.groupby('Titulo').sum().reset_index()\n",
    "    mais_assistido = mais_assistido[['Titulo','Minutos_Assistidos']]\n",
    "    mais_assistido =  mais_assistido.sort_values(by = 'Minutos_Assistidos', ascending=False)\n",
    "    top_1 = mais_assistido.sort_values(by = 'Minutos_Assistidos', ascending=False).iloc[0]\n",
    "    resposta = (f'O título com maior tempo total de visualização é: \"{top_1['Titulo']}\" com {int(top_1['Minutos_Assistidos'])/60} horas de visualização!')\n",
    "    return resposta\n",
    "\n",
    "print (titulo_com_maior_visualizacao())"
   ]
  },
  {
   "cell_type": "markdown",
   "id": "315ece26",
   "metadata": {},
   "source": [
    "## 2.Filtrar e Selecionar:"
   ]
  },
  {
   "cell_type": "markdown",
   "id": "ee0ef5cc",
   "metadata": {},
   "source": [
    "### Liste os assinantes que se cadastraram em janeiro de 2024.\n"
   ]
  },
  {
   "cell_type": "code",
   "execution_count": 6,
   "id": "27900936",
   "metadata": {},
   "outputs": [
    {
     "name": "stdout",
     "output_type": "stream",
     "text": [
      "Assinantes que se cadastraram em Janeiro de 2024: \n",
      "       Nome Sobrenome Data_Inicio_Assinatura\n",
      "6  Gabriela     Nunes             2024-01-01\n"
     ]
    }
   ],
   "source": [
    "def assinantes_cadastrados_janeiro_2024(df):\n",
    "    copia_df = df\n",
    "    copia_df['Data_Inicio_Assinatura'] = pd.to_datetime(copia_df['Data_Inicio_Assinatura'])\n",
    "    janeiro_2024_df = ((copia_df['Data_Inicio_Assinatura'].dt.year == 2024) & (copia_df['Data_Inicio_Assinatura'].dt.month == 1))\n",
    "    assinantes_filtrados = copia_df[janeiro_2024_df][['Nome', 'Sobrenome', 'Data_Inicio_Assinatura']]\n",
    "    \n",
    "    return assinantes_filtrados\n",
    "\n",
    "print(f'Assinantes que se cadastraram em Janeiro de 2024: \\n{assinantes_cadastrados_janeiro_2024(assinantes_df)}')"
   ]
  },
  {
   "cell_type": "markdown",
   "id": "4b6184a6",
   "metadata": {},
   "source": [
    "### Encontre os filmes com avaliação IMDb acima de 8.5 e duração superior a 2 horas."
   ]
  },
  {
   "cell_type": "code",
   "execution_count": 7,
   "id": "749d8d5d",
   "metadata": {},
   "outputs": [
    {
     "name": "stderr",
     "output_type": "stream",
     "text": [
      "C:\\Users\\joa_o\\AppData\\Local\\Temp\\ipykernel_6372\\147579920.py:3: SettingWithCopyWarning: \n",
      "A value is trying to be set on a copy of a slice from a DataFrame.\n",
      "Try using .loc[row_indexer,col_indexer] = value instead\n",
      "\n",
      "See the caveats in the documentation: https://pandas.pydata.org/pandas-docs/stable/user_guide/indexing.html#returning-a-view-versus-a-copy\n",
      "  combinado_df['Duracao_Horas']= (combinado_df['Duracao_Minutos']/60).round(2)\n"
     ]
    },
    {
     "data": {
      "text/html": [
       "<div>\n",
       "<style scoped>\n",
       "    .dataframe tbody tr th:only-of-type {\n",
       "        vertical-align: middle;\n",
       "    }\n",
       "\n",
       "    .dataframe tbody tr th {\n",
       "        vertical-align: top;\n",
       "    }\n",
       "\n",
       "    .dataframe thead th {\n",
       "        text-align: right;\n",
       "    }\n",
       "</style>\n",
       "<table border=\"1\" class=\"dataframe\">\n",
       "  <thead>\n",
       "    <tr style=\"text-align: right;\">\n",
       "      <th></th>\n",
       "      <th>ID_Conteudo</th>\n",
       "      <th>Titulo</th>\n",
       "      <th>Duracao_Horas</th>\n",
       "      <th>Avaliacao_Media_IMDb</th>\n",
       "    </tr>\n",
       "  </thead>\n",
       "  <tbody>\n",
       "    <tr>\n",
       "      <th>0</th>\n",
       "      <td>1001</td>\n",
       "      <td>O Legado do Código</td>\n",
       "      <td>2.42</td>\n",
       "      <td>8.7</td>\n",
       "    </tr>\n",
       "    <tr>\n",
       "      <th>3</th>\n",
       "      <td>1004</td>\n",
       "      <td>A Ascensão do Dragao</td>\n",
       "      <td>3.00</td>\n",
       "      <td>9.3</td>\n",
       "    </tr>\n",
       "  </tbody>\n",
       "</table>\n",
       "</div>"
      ],
      "text/plain": [
       "   ID_Conteudo                Titulo  Duracao_Horas  Avaliacao_Media_IMDb\n",
       "0         1001    O Legado do Código           2.42                   8.7\n",
       "3         1004  A Ascensão do Dragao           3.00                   9.3"
      ]
     },
     "metadata": {},
     "output_type": "display_data"
    }
   ],
   "source": [
    "def Avaliacao_e_mais_de_duas_horas(df):\n",
    "    combinado_df = df[(df['Tipo_Conteudo'] == 'Filme') & (df['Avaliacao_Media_IMDb'] >= 8.5) & (df['Duracao_Minutos'] > 120)]\n",
    "    combinado_df['Duracao_Horas']= (combinado_df['Duracao_Minutos']/60).round(2)\n",
    "    correspondentes_df = combinado_df[['ID_Conteudo', 'Titulo', 'Duracao_Horas', 'Avaliacao_Media_IMDb']]\n",
    "    return correspondentes_df\n",
    "\n",
    "display(Avaliacao_e_mais_de_duas_horas(catalogo_df))"
   ]
  },
  {
   "cell_type": "markdown",
   "id": "317a67e7",
   "metadata": {},
   "source": [
    "### Quais visualizações não foram completas?"
   ]
  },
  {
   "cell_type": "code",
   "execution_count": 8,
   "id": "0ebd6fa7",
   "metadata": {},
   "outputs": [
    {
     "data": {
      "text/html": [
       "<div>\n",
       "<style scoped>\n",
       "    .dataframe tbody tr th:only-of-type {\n",
       "        vertical-align: middle;\n",
       "    }\n",
       "\n",
       "    .dataframe tbody tr th {\n",
       "        vertical-align: top;\n",
       "    }\n",
       "\n",
       "    .dataframe thead th {\n",
       "        text-align: right;\n",
       "    }\n",
       "</style>\n",
       "<table border=\"1\" class=\"dataframe\">\n",
       "  <thead>\n",
       "    <tr style=\"text-align: right;\">\n",
       "      <th></th>\n",
       "      <th>ID_Visualizacao</th>\n",
       "      <th>ID_Assinante</th>\n",
       "      <th>Nome</th>\n",
       "      <th>Sobrenome</th>\n",
       "      <th>ID_Conteudo</th>\n",
       "      <th>Titulo</th>\n",
       "      <th>Completo</th>\n",
       "    </tr>\n",
       "  </thead>\n",
       "  <tbody>\n",
       "    <tr>\n",
       "      <th>1</th>\n",
       "      <td>4002</td>\n",
       "      <td>2002</td>\n",
       "      <td>Bruno</td>\n",
       "      <td>Costa</td>\n",
       "      <td>1003</td>\n",
       "      <td>A Última Linha</td>\n",
       "      <td>Nao</td>\n",
       "    </tr>\n",
       "    <tr>\n",
       "      <th>3</th>\n",
       "      <td>4004</td>\n",
       "      <td>2004</td>\n",
       "      <td>Daniel</td>\n",
       "      <td>Lima</td>\n",
       "      <td>1001</td>\n",
       "      <td>O Legado do Código</td>\n",
       "      <td>Nao</td>\n",
       "    </tr>\n",
       "    <tr>\n",
       "      <th>8</th>\n",
       "      <td>4009</td>\n",
       "      <td>2009</td>\n",
       "      <td>Isabela</td>\n",
       "      <td>Ribeiro</td>\n",
       "      <td>1007</td>\n",
       "      <td>Entre Mundos</td>\n",
       "      <td>Nao</td>\n",
       "    </tr>\n",
       "    <tr>\n",
       "      <th>23</th>\n",
       "      <td>4024</td>\n",
       "      <td>2009</td>\n",
       "      <td>Isabela</td>\n",
       "      <td>Ribeiro</td>\n",
       "      <td>1011</td>\n",
       "      <td>Crônicas Esquecidas</td>\n",
       "      <td>Nao</td>\n",
       "    </tr>\n",
       "  </tbody>\n",
       "</table>\n",
       "</div>"
      ],
      "text/plain": [
       "    ID_Visualizacao  ID_Assinante     Nome Sobrenome  ID_Conteudo  \\\n",
       "1              4002          2002    Bruno     Costa         1003   \n",
       "3              4004          2004   Daniel      Lima         1001   \n",
       "8              4009          2009  Isabela   Ribeiro         1007   \n",
       "23             4024          2009  Isabela   Ribeiro         1011   \n",
       "\n",
       "                 Titulo Completo  \n",
       "1        A Última Linha      Nao  \n",
       "3    O Legado do Código      Nao  \n",
       "8          Entre Mundos      Nao  \n",
       "23  Crônicas Esquecidas      Nao  "
      ]
     },
     "metadata": {},
     "output_type": "display_data"
    }
   ],
   "source": [
    "def visualizacao_incompleta():\n",
    "    combinado_df = historico_df.merge(catalogo_df, on = 'ID_Conteudo')\n",
    "    combinado_df = combinado_df.merge(assinantes_df, on = 'ID_Assinante')\n",
    "    combinado_df = combinado_df[['ID_Visualizacao', 'ID_Assinante', 'Nome', 'Sobrenome', 'ID_Conteudo', 'Titulo', 'Completo']]\n",
    "    visualizacao_incompleta_df = combinado_df[(combinado_df['Completo'] == 'Nao')]\n",
    "    return visualizacao_incompleta_df\n",
    "\n",
    "display(visualizacao_incompleta())"
   ]
  },
  {
   "cell_type": "markdown",
   "id": "04356698",
   "metadata": {},
   "source": [
    "## 3.Agrupar e Agregar: \n"
   ]
  },
  {
   "cell_type": "markdown",
   "id": "81b4a13b",
   "metadata": {},
   "source": [
    "### Calcule o tempo médio de visualização por tipo de dispositivo."
   ]
  },
  {
   "cell_type": "code",
   "execution_count": 17,
   "id": "65a7c7bb",
   "metadata": {},
   "outputs": [
    {
     "data": {
      "text/html": [
       "<div>\n",
       "<style scoped>\n",
       "    .dataframe tbody tr th:only-of-type {\n",
       "        vertical-align: middle;\n",
       "    }\n",
       "\n",
       "    .dataframe tbody tr th {\n",
       "        vertical-align: top;\n",
       "    }\n",
       "\n",
       "    .dataframe thead th {\n",
       "        text-align: right;\n",
       "    }\n",
       "</style>\n",
       "<table border=\"1\" class=\"dataframe\">\n",
       "  <thead>\n",
       "    <tr style=\"text-align: right;\">\n",
       "      <th></th>\n",
       "      <th>Nome_Plataforma</th>\n",
       "      <th>Media_Minutos_Assistidos</th>\n",
       "    </tr>\n",
       "  </thead>\n",
       "  <tbody>\n",
       "    <tr>\n",
       "      <th>0</th>\n",
       "      <td>Apple TV</td>\n",
       "      <td>121.25</td>\n",
       "    </tr>\n",
       "    <tr>\n",
       "      <th>1</th>\n",
       "      <td>Console Playstation</td>\n",
       "      <td>110.00</td>\n",
       "    </tr>\n",
       "    <tr>\n",
       "      <th>2</th>\n",
       "      <td>Mobile Android</td>\n",
       "      <td>98.75</td>\n",
       "    </tr>\n",
       "    <tr>\n",
       "      <th>3</th>\n",
       "      <td>Mobile iOS</td>\n",
       "      <td>95.00</td>\n",
       "    </tr>\n",
       "    <tr>\n",
       "      <th>4</th>\n",
       "      <td>SmartTV LG</td>\n",
       "      <td>47.50</td>\n",
       "    </tr>\n",
       "    <tr>\n",
       "      <th>5</th>\n",
       "      <td>SmartTV Samsung</td>\n",
       "      <td>70.83</td>\n",
       "    </tr>\n",
       "    <tr>\n",
       "      <th>6</th>\n",
       "      <td>Web Browser</td>\n",
       "      <td>68.33</td>\n",
       "    </tr>\n",
       "  </tbody>\n",
       "</table>\n",
       "</div>"
      ],
      "text/plain": [
       "       Nome_Plataforma  Media_Minutos_Assistidos\n",
       "0             Apple TV                    121.25\n",
       "1  Console Playstation                    110.00\n",
       "2       Mobile Android                     98.75\n",
       "3           Mobile iOS                     95.00\n",
       "4           SmartTV LG                     47.50\n",
       "5      SmartTV Samsung                     70.83\n",
       "6          Web Browser                     68.33"
      ]
     },
     "metadata": {},
     "output_type": "display_data"
    }
   ],
   "source": [
    "def media_por_dispositivo():\n",
    "    combinado_df = historico_df.merge(plataformas_df, on = 'ID_Plataforma')\n",
    "    media_por_plataforma = (combinado_df.groupby('Nome_Plataforma')['Minutos_Assistidos'].mean().reset_index()).round(2)\n",
    "    media_por_plataforma = media_por_plataforma.rename(columns={'Minutos_Assistidos' : 'Media_Minutos_Assistidos'})\n",
    "    return media_por_plataforma\n",
    "\n",
    "display(media_por_dispositivo())\n"
   ]
  },
  {
   "cell_type": "code",
   "execution_count": null,
   "id": "c7accc07",
   "metadata": {},
   "outputs": [],
   "source": []
  }
 ],
 "metadata": {
  "kernelspec": {
   "display_name": "base",
   "language": "python",
   "name": "python3"
  },
  "language_info": {
   "codemirror_mode": {
    "name": "ipython",
    "version": 3
   },
   "file_extension": ".py",
   "mimetype": "text/x-python",
   "name": "python",
   "nbconvert_exporter": "python",
   "pygments_lexer": "ipython3",
   "version": "3.12.7"
  }
 },
 "nbformat": 4,
 "nbformat_minor": 5
}
